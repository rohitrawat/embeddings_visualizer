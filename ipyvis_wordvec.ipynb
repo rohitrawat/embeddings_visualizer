{
 "cells": [
  {
   "cell_type": "markdown",
   "metadata": {},
   "source": [
    "# Interactive word vector visualizations in Jupyter notebooks"
   ]
  },
  {
   "cell_type": "code",
   "execution_count": 123,
   "metadata": {},
   "outputs": [
    {
     "name": "stdout",
     "output_type": "stream",
     "text": [
      "(5000,)\n",
      "(5000, 50)\n",
      "['the' 'of' 'and' 'one' 'in' 'a' 'to' 'zero' 'nine' 'two']\n",
      "[[0.702965 -0.093212 -0.42150200000000004 -0.430059 -0.464135 0.48163\n",
      "  1.59297 -1.726543 -0.512899 0.380612 -1.9453529999999999\n",
      "  -0.33831500000000003 1.430657 -0.375235 -2.058234 -0.022857 1.194399\n",
      "  -0.10219600000000001 -0.212738 -0.35118499999999997 -0.048301 -1.227926\n",
      "  -0.059437000000000004 -0.11541300000000002 -1.058568 0.393416 -0.131893\n",
      "  0.27114299999999997 0.331271 -0.292186 -0.455772 0.20669200000000001\n",
      "  -0.969767 -0.868569 0.975427 -0.166179 -1.3958760000000001\n",
      "  -0.8614360000000001 -0.055564999999999996 -1.277792 -0.181928 -1.009301\n",
      "  -0.434904 0.359189 0.276807 -0.6651 -0.996642 -0.675003 0.325484 1.462228]\n",
      " [0.884634 0.203253 0.157106 -0.9560049999999999 -0.7286199999999999\n",
      "  0.610926 0.986567 -1.909298 -0.8765959999999999 -0.526278 -2.351771\n",
      "  -0.612168 1.7166439999999998 0.9305329999999999 -1.270684 0.507109\n",
      "  1.049233 -0.22905 -0.26765300000000003 -0.234254 0.56004\n",
      "  -1.2946389999999999 -0.14616600000000002 0.5631390000000001 -0.941034\n",
      "  -0.15520699999999998 -0.03458 -0.345439 0.204213 -0.08770800000000001\n",
      "  -1.124793 0.7370270000000001 -0.704237 -0.865766 0.520319\n",
      "  0.048073000000000005 -0.9472879999999999 -0.6825060000000001 -0.057214\n",
      "  -1.740848 -0.078818 -0.28992399999999996 0.281471 0.73865 0.735467\n",
      "  -0.805766 -0.648153 0.142328 0.50227 1.917613]\n",
      " [1.326043 0.076161 -0.382782 -0.596114 -1.175702 0.534568 0.996065\n",
      "  -2.316663 0.35786599999999996 -0.028964 -1.826414 -0.696742\n",
      "  0.6646340000000001 0.304075 -1.134688 0.156576 1.089936 -0.004039\n",
      "  0.452379 0.520526 0.258255 -1.184426 -0.177922 -0.4465 -1.05126 -0.277503\n",
      "  -0.831623 0.031265 -0.722015 -0.537441 -0.474508 -0.034675 -1.161292\n",
      "  -0.854417 -0.202397 -0.574567 -1.509474 0.026217 -0.49708500000000005\n",
      "  -1.214494 0.087534 -0.09993300000000001 -0.20588 -0.423508 0.559384\n",
      "  -0.48457100000000003 -0.079502 0.014675 0.540046 1.7201400000000002]\n",
      " [1.277726 -0.5233760000000001 -0.018594 -0.6000489999999999 -0.305334\n",
      "  -0.152411 1.930711 -1.014481 -0.6074189999999999 -0.170871 -1.699715\n",
      "  -0.32876 0.486256 0.79937 -1.0307979999999999 -0.32062199999999996\n",
      "  0.190243 0.637875 -0.589136 -1.177343 0.877323 -1.3410600000000001\n",
      "  -0.463261 -0.208792 -0.9459069999999999 -0.02409 0.043657999999999995\n",
      "  0.42385600000000007 0.474397 -0.258417 -1.402336 -0.834873\n",
      "  -0.7206060000000001 -0.679475 0.408519 -1.013328 -2.215043 -1.013781\n",
      "  -0.691487 -1.24317 -0.167737 -0.47875 -0.095671 -0.500811 -0.275553\n",
      "  -0.761544 0.42851000000000006 -0.170463 1.318194 1.965285]\n",
      " [1.012589 -0.21182600000000001 -0.24624200000000002 -0.454375\n",
      "  -0.9677459999999999 0.13861700000000002 1.7295610000000001 -1.234589\n",
      "  -0.415016 -0.344706 -2.229835 -0.5048090000000001 0.5182869999999999\n",
      "  0.26514299999999996 -0.850417 0.21899899999999997 1.524299 0.121327\n",
      "  -0.278063 -0.21595999999999999 0.247558 -0.287076 -0.737534 -0.406574\n",
      "  -1.0566520000000001 -0.886598 -0.130163 0.173491 -0.279535 -0.55455\n",
      "  -0.38208400000000003 0.05533099999999999 -1.1281370000000002 -0.778393\n",
      "  0.598053 -0.075262 -1.526548 -0.592485 -0.169966 -1.6622009999999998\n",
      "  0.463625 -0.857334 -0.176886 0.170321 0.082721 0.15583\n",
      "  -0.24558600000000003 -0.17987899999999998 0.593359 1.9276389999999999]\n",
      " [1.02421 -0.519896 0.43625200000000003 -0.125435 -1.5201870000000002\n",
      "  0.122742 1.727575 -1.4596069999999999 -0.7310760000000001\n",
      "  0.41696099999999997 -1.908037 -0.292674 0.798532 1.100743 -0.935686\n",
      "  -0.811379 0.813778 0.765828 0.160116 1.116131 -0.279796\n",
      "  -0.9057860000000001 -0.7188640000000001 -0.099071 -0.532363\n",
      "  0.023313999999999998 -0.189146 -0.225946 -0.955368 0.78846\n",
      "  0.43252799999999997 -0.365505 -0.721 -0.5520729999999999\n",
      "  0.8928360000000001 0.099983 -1.541995 -1.8276830000000002 -0.513375\n",
      "  -1.078705 0.062166 -0.482612 0.06348 0.8497379999999999 0.464603 -0.37165\n",
      "  0.141455 -0.714842 0.4432 1.8119150000000002]\n",
      " [0.81628 0.161626 -1.42019 -0.169422 -0.803497 1.007723 2.298871 -1.182791\n",
      "  0.293315 -0.21830300000000002 -2.346652 -0.011696 1.23811\n",
      "  0.030677999999999997 -0.734344 -0.778007 0.183151 -0.33931500000000003\n",
      "  -0.132868 0.716689 0.854784 -0.43321400000000004 -0.5840569999999999\n",
      "  -0.094191 -0.47103199999999995 -0.051739999999999994 -0.792491 -0.31506\n",
      "  -0.332396 -0.956451 -0.41480600000000006 -1.000113 -1.408633 -1.141714\n",
      "  0.6421319999999999 0.552375 -1.615616 -0.770257 -1.080268\n",
      "  -0.46146899999999996 0.036411 -0.194307 -0.180667 0.704655 0.373046\n",
      "  -0.74853 -0.490241 0.19176700000000002 0.161001 2.0307310000000003]\n",
      " [1.7653619999999999 -0.88886 -0.412063 -0.5520579999999999 -0.272415\n",
      "  -0.533289 2.031622 -1.3164129999999998 0.202183 -0.269685\n",
      "  -1.4694180000000001 -0.838125 -0.13398 0.81335 -0.719438 -0.524126\n",
      "  -0.11660699999999999 0.572675 -0.768701 -0.903551 0.704719 -1.619644\n",
      "  -0.499482 0.325069 -0.926955 -0.28838 0.289609 0.276779 -0.158872\n",
      "  -0.227133 -1.535138 -1.570762 -0.574186 -0.793401 0.820399 -0.72958\n",
      "  -1.368378 -0.715697 -0.42793400000000004 -1.355752 -1.28244 -0.796346\n",
      "  -0.657048 -0.106525 0.088865 -0.11360799999999999 0.348583 -0.177126\n",
      "  0.884444 2.0895200000000003]\n",
      " [1.337486 -0.466049 0.38135399999999997 -0.1193 -0.40038\n",
      "  -0.24451199999999998 1.822413 -1.126174 -0.258309 0.36285100000000003\n",
      "  -1.626999 -0.478533 0.152732 0.512047 -0.9993989999999999 -0.305113\n",
      "  0.02465 0.464851 -0.481717 -0.858698 0.946852 -1.2626549999999999\n",
      "  -0.581609 -0.362427 -0.972382 -0.387207 0.11750999999999999 0.540419\n",
      "  0.237972 -0.33763200000000004 -1.609233 -0.857909 -0.6864779999999999\n",
      "  -0.131725 0.57577 -1.169822 -2.175176 -0.431924 -0.816366\n",
      "  -1.0873700000000002 0.026541000000000002 -0.8846430000000001 -0.344621\n",
      "  -0.436634 -0.764796 -1.09459 0.52132 -0.347869 1.3677979999999998\n",
      "  2.161526]\n",
      " [1.70255 -0.771209 -0.831369 -0.5558310000000001 -0.42281\n",
      "  -0.39669099999999996 1.961655 -1.296481 -0.09617 -0.779301 -1.208861\n",
      "  -0.574101 -0.02016 0.792508 -0.811904 -0.559158 0.143713\n",
      "  0.6264270000000001 -0.557462 -1.188268 0.44997 -1.618285 -0.974556\n",
      "  0.266834 -1.079325 -0.116282 0.2574 -0.009458 0.08693200000000001\n",
      "  -0.432335 -1.82151 -1.0035319999999999 -0.593773 -0.726036 0.384581\n",
      "  -1.005053 -1.631229 -1.156833 -0.572146 -1.292132 -0.766221 -0.553693\n",
      "  -0.324654 -0.321856 0.11911300000000001 -0.33015500000000003 0.144701\n",
      "  0.15093399999999998 1.217386 1.914536]]\n"
     ]
    }
   ],
   "source": [
    "# Load vectors from file\n",
    "# The sample file is int he format generated by Glove. \n",
    "# First column is the word, followed by its vector, space delimited:\n",
    "# word <vec>\n",
    "# word <vec>\n",
    "# ...\n",
    "# A sample file with 5000 50-d vectors is included\n",
    "\n",
    "import pandas as pd\n",
    "vectors = pd.read_csv('vectors_5000.txt', delimiter=' ', header=None).as_matrix()\n",
    "words = vectors[:,0]\n",
    "vectors = vectors[:,1:]\n",
    "print(words.shape)\n",
    "print(vectors.shape)\n",
    "print(words[:5])\n",
    "print(vectors[:5,:])"
   ]
  },
  {
   "cell_type": "markdown",
   "metadata": {},
   "source": [
    "## Define plotting routines"
   ]
  },
  {
   "cell_type": "code",
   "execution_count": 124,
   "metadata": {
    "collapsed": true,
    "scrolled": false
   },
   "outputs": [],
   "source": [
    "# for interactive plots (optional)\n",
    "import ipympl\n",
    "# needs: conda install ipympl -c conda-forge\n",
    "\n",
    "import matplotlib.pyplot as plt\n",
    "from mpl_toolkits.mplot3d import Axes3D\n",
    "\n",
    "# regular notebook\n",
    "# %matplotlib notebook\n",
    "# interactive plots\n",
    "%matplotlib ipympl\n",
    "\n",
    "def plot_words_2d(vectors, words, plot = True):\n",
    "    fig = plt.figure()\n",
    "    ax = fig.add_subplot(111)\n",
    "    ax.scatter(vectors[:,0], vectors[:,1], marker='.')\n",
    "    for i, word in enumerate(words):\n",
    "        ax.text(x=vectors[i,0], y=vectors[i,1], s=word)\n",
    "    if plot:\n",
    "        plt.show()\n",
    "    return plt    \n",
    "\n",
    "def plot_words_3d(vectors, words, plot = True):\n",
    "    fig = plt.figure()\n",
    "    ax = fig.add_subplot(111, projection='3d')\n",
    "    ax.scatter(vectors[:,0], vectors[:,1], vectors[:,2], marker='.')\n",
    "    for i, word in enumerate(words):\n",
    "        ax.text(x=vectors[i,0], y=vectors[i,1], z=vectors[i,2], s=word)\n",
    "    if plot:\n",
    "        plt.show()\n",
    "    return plt  \n",
    "\n"
   ]
  },
  {
   "cell_type": "code",
   "execution_count": 125,
   "metadata": {},
   "outputs": [
    {
     "data": {
      "application/vnd.jupyter.widget-view+json": {
       "model_id": "5961798834584419945d2119558e217b"
      }
     },
     "metadata": {},
     "output_type": "display_data"
    }
   ],
   "source": [
    "from sklearn.manifold import TSNE\n",
    "\n",
    "# Project the words in 2D space\n",
    "model = TSNE(n_components=2, random_state=0, perplexity=15)\n",
    "if True:\n",
    "    X_tsne_2d = model.fit_transform(vectors)\n",
    "    # save for later\n",
    "    np.savetxt('tsne_2d.txt', X_tsne_2d);\n",
    "else:\n",
    "    print(\"WARNING: loading stale vectors from tsne_2d.txt\")\n",
    "    X_tsne_2d = np.loadtxt('tsne_2d.txt');\n",
    "\n",
    "# show first 20 points\n",
    "npts = 50\n",
    "plot_words_2d(X_tsne_2d[0:npts,:], words[0:npts]);"
   ]
  },
  {
   "cell_type": "code",
   "execution_count": 126,
   "metadata": {},
   "outputs": [
    {
     "data": {
      "application/vnd.jupyter.widget-view+json": {
       "model_id": "5dbff5ae26ab4e5e84dd86c934b16e22"
      }
     },
     "metadata": {},
     "output_type": "display_data"
    }
   ],
   "source": [
    "# Project the words in 3D space\n",
    "model = TSNE(n_components=3, random_state=0, perplexity=15)\n",
    "if True:\n",
    "    X_tsne_3d = model.fit_transform(vectors)\n",
    "    # save for later\n",
    "    np.savetxt('tsne_3d.txt', X_tsne_3d);\n",
    "else:\n",
    "    print(\"WARNING: loading stale vectors from tsne_3d.txt\")\n",
    "    X_tsne_3d = np.loadtxt('tsne_3d.txt');\n",
    "    \n",
    "npts = 20\n",
    "plot_words_3d(X_tsne_3d[0:npts,0:3], words[0:npts]);"
   ]
  },
  {
   "cell_type": "code",
   "execution_count": 140,
   "metadata": {},
   "outputs": [
    {
     "data": {
      "application/vnd.jupyter.widget-view+json": {
       "model_id": "ce4fcbfbb4a1453ba54c18dbf8e08ef6"
      }
     },
     "metadata": {},
     "output_type": "display_data"
    }
   ],
   "source": [
    "from sklearn.neighbors import NearestNeighbors\n",
    "\n",
    "# show interactive 2D plot like in Tensorboard\n",
    "def plot_words_2d_interactive(vectors, words, plot = True, n_neighbors = 15, vectors_3d = None):\n",
    "    fig = plt.figure(figsize=(8,10))\n",
    "    ax = fig.add_subplot(211)\n",
    "    if vectors_3d is None:\n",
    "        ax_zoom = fig.add_subplot(212)\n",
    "    else:\n",
    "        ax_zoom = fig.add_subplot(212, projection='3d')\n",
    "    ax.scatter(vectors[:,0], vectors[:,1], marker='.', c='b')\n",
    "    if plot:\n",
    "        plt.show()\n",
    "    \n",
    "    NN_model = NearestNeighbors(n_neighbors=n_neighbors, algorithm='ball_tree').fit(vectors)\n",
    "    last_indices = None\n",
    "    \n",
    "    def onclick_2d_interactive(event):\n",
    "        # print('button=%d, x=%d, y=%d, xdata=%f, ydata=%f' % (event.button, event.x, event.y, event.xdata, event.ydata))\n",
    "\n",
    "        if event.inaxes == ax_zoom:\n",
    "            return;\n",
    "        \n",
    "        distances, indices = NN_model.kneighbors([[event.xdata, event.ydata]], n_neighbors=n_neighbors)\n",
    "        # distances, indices = NN_model.radius_neighbors([[event.xdata, event.ydata]], radius=0.5)\n",
    "        # print(indices)\n",
    "        \n",
    "        indices = indices[0]\n",
    "        if indices.size == 0:\n",
    "            return\n",
    "        ax_zoom.clear()\n",
    "        if vectors_3d is None:\n",
    "            ax_zoom.scatter(vectors[indices,0], vectors[indices,1], marker='.')\n",
    "            for i in indices:\n",
    "                ax_zoom.text(x=vectors[i,0], y=vectors[i,1], s=words[i])\n",
    "        else:\n",
    "            ax_zoom.scatter(vectors_3d[indices,0], vectors_3d[indices,1], vectors_3d[indices,2], marker='.')\n",
    "            for i in indices:\n",
    "                ax_zoom.text(x=vectors_3d[i,0], y=vectors_3d[i,1], z=vectors_3d[i,2], s=words[i])\n",
    "        # highlight on main plot\n",
    "        nonlocal last_indices\n",
    "        if last_indices is not None:\n",
    "            ax.scatter(vectors[last_indices,0], vectors[last_indices,1], marker='.', c='b')\n",
    "        ax.scatter(vectors[indices,0], vectors[indices,1], marker='.', c='g')\n",
    "        last_indices = indices\n",
    "\n",
    "    cid = fig.canvas.mpl_connect('button_press_event', onclick_2d_interactive)\n",
    "    return plt\n",
    "\n",
    "plt.close(\"all\")\n",
    "npts = 5000\n",
    "plot_words_2d_interactive(X_tsne_2d[0:npts,0:2], words[0:npts], vectors_3d = X_tsne_3d);"
   ]
  },
  {
   "cell_type": "code",
   "execution_count": 129,
   "metadata": {
    "scrolled": false
   },
   "outputs": [
    {
     "data": {
      "application/vnd.jupyter.widget-view+json": {
       "model_id": "d37430934fdb47749b43140a51af5cfe"
      }
     },
     "metadata": {},
     "output_type": "display_data"
    }
   ],
   "source": [
    "from sklearn.neighbors import NearestNeighbors\n",
    "\n",
    "ev = None\n",
    "\n",
    "# show interactive 3D plot like in Tensorboard\n",
    "def plot_words_3d_interactive(vectors, words, plot = True, n_neighbors = 15):\n",
    "    fig = plt.figure(figsize=(8,8))\n",
    "    ax = fig.add_subplot(211, projection='3d')\n",
    "    ax_zoom = fig.add_subplot(212, projection='3d')\n",
    "    ax.scatter(vectors[:,0], vectors[:,1], vectors[:,2], marker='.', c='b', picker=3)\n",
    "    if plot:\n",
    "        plt.show()\n",
    "    \n",
    "    NN_model = NearestNeighbors(n_neighbors=n_neighbors, algorithm='ball_tree').fit(vectors)\n",
    "    last_indices = None\n",
    "    \n",
    "    def onclick_3d_interactive(event):\n",
    "        _x, _y, _z = event.artist._offsets3d\n",
    "        ind = event.ind[0]\n",
    "        x = _x[ind]\n",
    "        y = _y[ind]\n",
    "        z = _z[ind]\n",
    "        # print(x, y, z)\n",
    "        distances, indices = NN_model.kneighbors([[x, y, z]], n_neighbors=n_neighbors)\n",
    "        # distances, indices = NN_model.radius_neighbors([[event.xdata, event.ydata]], radius=0.5)\n",
    "        # print(indices)\n",
    "        distances = distances[0]\n",
    "        indices = indices[0]\n",
    "        if indices.size == 0:\n",
    "            return\n",
    "\n",
    "        avg_neighbor = np.mean(distances[1:6])\n",
    "        keep = distances>2*avg_neighbor\n",
    "        distance = distances[keep]\n",
    "        indices = indices[keep]\n",
    "        \n",
    "        ax_zoom.clear()\n",
    "        ax_zoom.scatter(vectors[indices,0], vectors[indices,1], vectors[indices,2], marker='.')\n",
    "        for i in indices:\n",
    "            jitter = 0 #0.5 * np.random.rand(1,1)\n",
    "            ax_zoom.text(x=vectors[i,0], y=vectors[i,1], z=vectors[i,2]+jitter, s=words[i])\n",
    "        # highlight on main plot\n",
    "#         nonlocal last_indices\n",
    "#         if last_indices is not None:\n",
    "#             ax.scatter(vectors[last_indices,0], vectors[last_indices,1], marker='.', c='b')\n",
    "#         ax.scatter(vectors[indices,0], vectors[indices,1], marker='.', c='g')\n",
    "#         last_indices = indices\n",
    "\n",
    "    cid = fig.canvas.mpl_connect('pick_event', onclick_3d_interactive)\n",
    "    return plt\n",
    "\n",
    "plt.close(\"all\")\n",
    "npts = 1000\n",
    "plot_words_3d_interactive(X_tsne_3d[0:npts,0:3], words[0:npts]);"
   ]
  },
  {
   "cell_type": "code",
   "execution_count": 139,
   "metadata": {},
   "outputs": [
    {
     "name": "stdout",
     "output_type": "stream",
     "text": [
      "[2063  951 1318 1792 4614 1498 1272 2792 2934 2804]\n",
      "interface\n",
      "user\n",
      "application\n",
      "hardware\n",
      "capabilities\n",
      "device\n",
      "allows\n",
      "integrated\n",
      "tool\n",
      "platform\n"
     ]
    }
   ],
   "source": [
    "# Search by word\n",
    "word = 'interface'\n",
    "words = list(words)\n",
    "idx = words.index(word)\n",
    "\n",
    "n_neighbors = 10\n",
    "NN_model = NearestNeighbors(n_neighbors=n_neighbors, algorithm='ball_tree').fit(vectors)\n",
    "distances, indices = NN_model.kneighbors([vectors[idx,:]], n_neighbors=n_neighbors)\n",
    "distances = distances[0]\n",
    "indices = indices[0]\n",
    "print(indices)\n",
    "for i in indices:\n",
    "    print(words[i])"
   ]
  }
 ],
 "metadata": {
  "kernelspec": {
   "display_name": "Python 3",
   "language": "python",
   "name": "python3"
  },
  "language_info": {
   "codemirror_mode": {
    "name": "ipython",
    "version": 3
   },
   "file_extension": ".py",
   "mimetype": "text/x-python",
   "name": "python",
   "nbconvert_exporter": "python",
   "pygments_lexer": "ipython3",
   "version": "3.6.1"
  }
 },
 "nbformat": 4,
 "nbformat_minor": 2
}
